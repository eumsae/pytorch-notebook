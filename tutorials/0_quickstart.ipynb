{
 "cells": [
  {
   "cell_type": "code",
   "execution_count": 1,
   "metadata": {},
   "outputs": [
    {
     "name": "stderr",
     "output_type": "stream",
     "text": [
      "/usr/local/lib/python3.8/dist-packages/tqdm/auto.py:22: TqdmWarning: IProgress not found. Please update jupyter and ipywidgets. See https://ipywidgets.readthedocs.io/en/stable/user_install.html\n",
      "  from .autonotebook import tqdm as notebook_tqdm\n"
     ]
    }
   ],
   "source": [
    "import torch\n",
    "from torch import nn\n",
    "from torch.utils.data import DataLoader\n",
    "from torchvision import datasets\n",
    "from torchvision.transforms import ToTensor\n",
    "\n",
    "# Dataset stores the samples and their corresponding labels.\n",
    "\n",
    "# Download training and test data from open datasets.\n",
    "training_data = datasets.FashionMNIST(\n",
    "    root=\"data\", train=True, download=True, transform=ToTensor())\n",
    "test_data = datasets.FashionMNIST(\n",
    "    root=\"data\", train=False, download=True, transform=ToTensor())"
   ]
  },
  {
   "cell_type": "code",
   "execution_count": 2,
   "metadata": {},
   "outputs": [
    {
     "name": "stdout",
     "output_type": "stream",
     "text": [
      "Shape of X [N, C, H, W]: torch.Size([64, 1, 28, 28])\n",
      "Shape of y: torch.Size([64]) torch.int64\n"
     ]
    }
   ],
   "source": [
    "batch_size = 64\n",
    "\n",
    "# DataLoader wraps an iterable around the Dataset.\n",
    "# Create data loaders.\n",
    "train_dataloader = DataLoader(training_data, batch_size)\n",
    "test_dataloader = DataLoader(test_data, batch_size)\n",
    "\n",
    "for X, y in test_dataloader:\n",
    "    print(f\"Shape of X [N, C, H, W]: {X.shape}\")  # (batch_size, channel, height, width)\n",
    "    print(f\"Shape of y: {y.shape} {y.dtype}\")  # (batch_size, )\n",
    "    break"
   ]
  },
  {
   "cell_type": "code",
   "execution_count": 3,
   "metadata": {},
   "outputs": [
    {
     "name": "stdout",
     "output_type": "stream",
     "text": [
      "NeuralNetwork(\n",
      "  (flatten): Flatten(start_dim=1, end_dim=-1)\n",
      "  (linear_relu_stack): Sequential(\n",
      "    (0): Linear(in_features=784, out_features=512, bias=True)\n",
      "    (1): ReLU()\n",
      "    (2): Linear(in_features=512, out_features=512, bias=True)\n",
      "    (3): ReLU()\n",
      "    (4): Linear(in_features=512, out_features=10, bias=True)\n",
      "  )\n",
      ")\n"
     ]
    }
   ],
   "source": [
    "device = \"cuda\" if torch.cuda.is_available() else \"cpu\"\n",
    "\n",
    "# Creating Models\n",
    "class NeuralNetwork(nn.Module):\n",
    "    def __init__(self):\n",
    "        super().__init__()\n",
    "        self.flatten = nn.Flatten()\n",
    "        self.linear_relu_stack = nn.Sequential(\n",
    "            nn.Linear(28*28, 512),\n",
    "            nn.ReLU(),\n",
    "            nn.Linear(512, 512),\n",
    "            nn.ReLU(),\n",
    "            nn.Linear(512, 10))  # classes: 10\n",
    "    \n",
    "    def forward(self, x):\n",
    "        x = self.flatten(x)  # input layer\n",
    "        logits = self.linear_relu_stack(x)\n",
    "        return logits\n",
    "\n",
    "model = NeuralNetwork().to(device)\n",
    "print(model)"
   ]
  },
  {
   "cell_type": "code",
   "execution_count": 4,
   "metadata": {},
   "outputs": [],
   "source": [
    "def train(dataloader, model, loss_fn, optimizer):\n",
    "    size = len(dataloader.dataset)\n",
    "    model.train()  # set trainable ??\n",
    "    for batch_i, (X, y) in enumerate(dataloader):\n",
    "        X, y = X.to(device), y.to(device)  # len: batch_size: 64\n",
    "\n",
    "        pred = model(X)\n",
    "        loss = loss_fn(pred, y)\n",
    "\n",
    "        optimizer.zero_grad()\n",
    "        loss.backward()\n",
    "        optimizer.step()\n",
    "\n",
    "        if batch_i % 100 == 0:\n",
    "            loss, current = loss.item(), batch_i * len(X)\n",
    "            print(f\"loss: {loss:>7f}, [{current:>5d}/{size:>5d}]\")\n",
    "\n",
    "\n",
    "def test(dataloader, model, loss_fn):\n",
    "    size = len(dataloader.dataset)\n",
    "    n_batches = len(dataloader)\n",
    "    model.eval()  # set evaluation ??\n",
    "    \n",
    "    test_loss, correct = 0, 0\n",
    "    with torch.no_grad():\n",
    "        for X, y in dataloader:\n",
    "            X, y = X.to(device), y.to(device)\n",
    "            pred = model(X)\n",
    "            test_loss += loss_fn(pred, y).item()\n",
    "            correct += (pred.argmax(1) == y).type(torch.float).sum().item()\n",
    "    test_loss /= n_batches\n",
    "    correct /= size\n",
    "    print(f\"Test Error: \\n Accuracy: {(100*correct):>0.1f}%, Avg loss: {test_loss:>8f} \\n\")\n"
   ]
  },
  {
   "cell_type": "code",
   "execution_count": 5,
   "metadata": {},
   "outputs": [
    {
     "name": "stdout",
     "output_type": "stream",
     "text": [
      "Epoch 1\n",
      "------\n",
      "loss: 2.306894, [    0/60000]\n",
      "loss: 2.298295, [ 6400/60000]\n",
      "loss: 2.276587, [12800/60000]\n",
      "loss: 2.269587, [19200/60000]\n",
      "loss: 2.250655, [25600/60000]\n",
      "loss: 2.219145, [32000/60000]\n",
      "loss: 2.229522, [38400/60000]\n",
      "loss: 2.189734, [44800/60000]\n",
      "loss: 2.189353, [51200/60000]\n",
      "loss: 2.146918, [57600/60000]\n",
      "Test Error: \n",
      " Accuracy: 39.2%, Avg loss: 2.151695 \n",
      "\n",
      "Epoch 2\n",
      "------\n",
      "loss: 2.164797, [    0/60000]\n",
      "loss: 2.163285, [ 6400/60000]\n",
      "loss: 2.100847, [12800/60000]\n",
      "loss: 2.115141, [19200/60000]\n",
      "loss: 2.060230, [25600/60000]\n",
      "loss: 1.994923, [32000/60000]\n",
      "loss: 2.034085, [38400/60000]\n",
      "loss: 1.949426, [44800/60000]\n",
      "loss: 1.954835, [51200/60000]\n",
      "loss: 1.869219, [57600/60000]\n",
      "Test Error: \n",
      " Accuracy: 53.0%, Avg loss: 1.880553 \n",
      "\n",
      "Epoch 3\n",
      "------\n",
      "loss: 1.920113, [    0/60000]\n",
      "loss: 1.899479, [ 6400/60000]\n",
      "loss: 1.773905, [12800/60000]\n",
      "loss: 1.809727, [19200/60000]\n",
      "loss: 1.694933, [25600/60000]\n",
      "loss: 1.648467, [32000/60000]\n",
      "loss: 1.678424, [38400/60000]\n",
      "loss: 1.579825, [44800/60000]\n",
      "loss: 1.597927, [51200/60000]\n",
      "loss: 1.480894, [57600/60000]\n",
      "Test Error: \n",
      " Accuracy: 59.4%, Avg loss: 1.511459 \n",
      "\n",
      "Epoch 4\n",
      "------\n",
      "loss: 1.584728, [    0/60000]\n",
      "loss: 1.560091, [ 6400/60000]\n",
      "loss: 1.401335, [12800/60000]\n",
      "loss: 1.471154, [19200/60000]\n",
      "loss: 1.338270, [25600/60000]\n",
      "loss: 1.342965, [32000/60000]\n",
      "loss: 1.364176, [38400/60000]\n",
      "loss: 1.291397, [44800/60000]\n",
      "loss: 1.313985, [51200/60000]\n",
      "loss: 1.204939, [57600/60000]\n",
      "Test Error: \n",
      " Accuracy: 62.7%, Avg loss: 1.244951 \n",
      "\n",
      "Epoch 5\n",
      "------\n",
      "loss: 1.323969, [    0/60000]\n",
      "loss: 1.318832, [ 6400/60000]\n",
      "loss: 1.144009, [12800/60000]\n",
      "loss: 1.250952, [19200/60000]\n",
      "loss: 1.107829, [25600/60000]\n",
      "loss: 1.144635, [32000/60000]\n",
      "loss: 1.172266, [38400/60000]\n",
      "loss: 1.113243, [44800/60000]\n",
      "loss: 1.138036, [51200/60000]\n",
      "loss: 1.042929, [57600/60000]\n",
      "Test Error: \n",
      " Accuracy: 64.5%, Avg loss: 1.080690 \n",
      "\n",
      "Done!\n"
     ]
    }
   ],
   "source": [
    "# hyper parameters\n",
    "lr = 1e-3  # learning rate, 0.001\n",
    "loss_fn = nn.CrossEntropyLoss()\n",
    "optimizer = torch.optim.SGD(model.parameters(), lr=lr)\n",
    "epochs = 5\n",
    "\n",
    "for t in range(epochs):\n",
    "    print(f\"Epoch {t+1}\\n------\")\n",
    "    train(train_dataloader, model, loss_fn, optimizer)\n",
    "    test(test_dataloader, model, loss_fn)\n",
    "print(\"Done!\")"
   ]
  }
 ],
 "metadata": {
  "kernelspec": {
   "display_name": "Python 3",
   "language": "python",
   "name": "python3"
  },
  "language_info": {
   "codemirror_mode": {
    "name": "ipython",
    "version": 3
   },
   "file_extension": ".py",
   "mimetype": "text/x-python",
   "name": "python",
   "nbconvert_exporter": "python",
   "pygments_lexer": "ipython3",
   "version": "3.8.10"
  },
  "orig_nbformat": 4,
  "vscode": {
   "interpreter": {
    "hash": "916dbcbb3f70747c44a77c7bcd40155683ae19c65e1c03b4aa3499c5328201f1"
   }
  }
 },
 "nbformat": 4,
 "nbformat_minor": 2
}
