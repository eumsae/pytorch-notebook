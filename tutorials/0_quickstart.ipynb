{
 "cells": [
  {
   "cell_type": "code",
   "execution_count": 1,
   "metadata": {},
   "outputs": [
    {
     "name": "stderr",
     "output_type": "stream",
     "text": [
      "/usr/local/lib/python3.8/dist-packages/tqdm/auto.py:22: TqdmWarning: IProgress not found. Please update jupyter and ipywidgets. See https://ipywidgets.readthedocs.io/en/stable/user_install.html\n",
      "  from .autonotebook import tqdm as notebook_tqdm\n"
     ]
    }
   ],
   "source": [
    "import torch\n",
    "from torch import nn\n",
    "from torch.utils.data import DataLoader\n",
    "from torchvision.datasets import FashionMNIST\n",
    "from torchvision.transforms import ToTensor\n",
    "\n",
    "device = \"cuda\" if torch.cuda.is_available() else \"cpu\""
   ]
  },
  {
   "cell_type": "code",
   "execution_count": 2,
   "metadata": {},
   "outputs": [],
   "source": [
    "def train(dataloader, model, loss_fn, optimizer):\n",
    "    model.train()  # set the model to training mode\n",
    "    n_samples = len(dataloader.dataset)  # the num of samples\n",
    "    for batch_i, (X, y) in enumerate(dataloader):\n",
    "        X, y = X.to(device), y.to(device)\n",
    "        preds = model(X)\n",
    "        loss = loss_fn(preds, y)\n",
    "        optimizer.zero_grad()  # init grads to 0\n",
    "        loss.backward()\n",
    "        optimizer.step()\n",
    "        if batch_i % 100 == 0:\n",
    "            loss, prog = loss.item(), batch_i * len(X)\n",
    "            print(f\"Loss: {loss:>7f}, Progress: {prog:>5d}/{n_samples:>5d}\")\n",
    "\n",
    "\n",
    "def test(dataloader, model, loss_fn):\n",
    "    model.eval()  # set the model to evaluation mode\n",
    "    n_samples = len(dataloader.dataset)\n",
    "    test_loss, correct = 0, 0\n",
    "    with torch.no_grad():  # fix grads\n",
    "        for X, y in dataloader:\n",
    "            X, y = X.to(device), y.to(device)\n",
    "            preds = model(X)\n",
    "            loss = loss_fn(preds, y)\n",
    "            test_loss += loss.item()\n",
    "            correct += (preds.argmax(1) == y).type(torch.float).sum().item()\n",
    "    acc = correct / n_samples\n",
    "    avg_loss = test_loss / n_samples\n",
    "    print(f\"[Test] acc: {acc:>7f}, avg_loss: {avg_loss:>7f}\")"
   ]
  },
  {
   "cell_type": "code",
   "execution_count": 3,
   "metadata": {},
   "outputs": [],
   "source": [
    "class NeuralNet(nn.Module):\n",
    "\n",
    "    def __init__(self):\n",
    "        super().__init__()\n",
    "        self.flatten = nn.Flatten()\n",
    "        self.linear_stack = nn.Sequential(\n",
    "            nn.Linear(28*28, 512),  # img size: 28x28\n",
    "            nn.ReLU(),\n",
    "            nn.Linear(512, 512),\n",
    "            nn.ReLU(),\n",
    "            nn.Linear(512, 10))  # classes: 10\n",
    "    \n",
    "    def forward(self, x):\n",
    "        x = self.flatten(x)\n",
    "        logits = self.linear_stack(x)\n",
    "        return logits"
   ]
  },
  {
   "cell_type": "code",
   "execution_count": 4,
   "metadata": {},
   "outputs": [
    {
     "name": "stdout",
     "output_type": "stream",
     "text": [
      "Downloading http://fashion-mnist.s3-website.eu-central-1.amazonaws.com/train-images-idx3-ubyte.gz\n",
      "Downloading http://fashion-mnist.s3-website.eu-central-1.amazonaws.com/train-images-idx3-ubyte.gz to data/FashionMNIST/raw/train-images-idx3-ubyte.gz\n"
     ]
    },
    {
     "name": "stderr",
     "output_type": "stream",
     "text": [
      "100%|██████████| 26421880/26421880 [00:12<00:00, 2056700.35it/s]\n"
     ]
    },
    {
     "name": "stdout",
     "output_type": "stream",
     "text": [
      "Extracting data/FashionMNIST/raw/train-images-idx3-ubyte.gz to data/FashionMNIST/raw\n",
      "\n",
      "Downloading http://fashion-mnist.s3-website.eu-central-1.amazonaws.com/train-labels-idx1-ubyte.gz\n",
      "Downloading http://fashion-mnist.s3-website.eu-central-1.amazonaws.com/train-labels-idx1-ubyte.gz to data/FashionMNIST/raw/train-labels-idx1-ubyte.gz\n"
     ]
    },
    {
     "name": "stderr",
     "output_type": "stream",
     "text": [
      "100%|██████████| 29515/29515 [00:00<00:00, 52584.25it/s]\n"
     ]
    },
    {
     "name": "stdout",
     "output_type": "stream",
     "text": [
      "Extracting data/FashionMNIST/raw/train-labels-idx1-ubyte.gz to data/FashionMNIST/raw\n",
      "\n",
      "Downloading http://fashion-mnist.s3-website.eu-central-1.amazonaws.com/t10k-images-idx3-ubyte.gz\n",
      "Downloading http://fashion-mnist.s3-website.eu-central-1.amazonaws.com/t10k-images-idx3-ubyte.gz to data/FashionMNIST/raw/t10k-images-idx3-ubyte.gz\n"
     ]
    },
    {
     "name": "stderr",
     "output_type": "stream",
     "text": [
      "100%|██████████| 4422102/4422102 [00:04<00:00, 918718.85it/s] \n"
     ]
    },
    {
     "name": "stdout",
     "output_type": "stream",
     "text": [
      "Extracting data/FashionMNIST/raw/t10k-images-idx3-ubyte.gz to data/FashionMNIST/raw\n",
      "\n",
      "Downloading http://fashion-mnist.s3-website.eu-central-1.amazonaws.com/t10k-labels-idx1-ubyte.gz\n",
      "Downloading http://fashion-mnist.s3-website.eu-central-1.amazonaws.com/t10k-labels-idx1-ubyte.gz to data/FashionMNIST/raw/t10k-labels-idx1-ubyte.gz\n"
     ]
    },
    {
     "name": "stderr",
     "output_type": "stream",
     "text": [
      "100%|██████████| 5148/5148 [00:00<00:00, 11316707.02it/s]"
     ]
    },
    {
     "name": "stdout",
     "output_type": "stream",
     "text": [
      "Extracting data/FashionMNIST/raw/t10k-labels-idx1-ubyte.gz to data/FashionMNIST/raw\n",
      "\n"
     ]
    },
    {
     "name": "stderr",
     "output_type": "stream",
     "text": [
      "\n"
     ]
    }
   ],
   "source": [
    "# model\n",
    "model = NeuralNet().to(device)\n",
    "\n",
    "# hyper parameters\n",
    "lr = 1e-3  # learning rate, 0.001\n",
    "loss_fn = nn.CrossEntropyLoss()\n",
    "optimizer = torch.optim.Adam(model.parameters(), lr=lr)\n",
    "epochs = 5\n",
    "batch_size = 64\n",
    "\n",
    "# data\n",
    "training_data = FashionMNIST(root=\"data\",train=True, download=True, transform=ToTensor())\n",
    "test_data = FashionMNIST(root=\"data\", train=False, download=True, transform=ToTensor())\n",
    "\n",
    "# data loaders\n",
    "train_dataloader = DataLoader(training_data, batch_size)\n",
    "test_dataloader = DataLoader(test_data, batch_size)"
   ]
  },
  {
   "cell_type": "code",
   "execution_count": 5,
   "metadata": {},
   "outputs": [
    {
     "name": "stdout",
     "output_type": "stream",
     "text": [
      "Epoch 1 -----\n",
      "Loss: 2.302204, Progress:     0/60000\n",
      "Loss: 0.569436, Progress:  6400/60000\n",
      "Loss: 0.391492, Progress: 12800/60000\n",
      "Loss: 0.486012, Progress: 19200/60000\n",
      "Loss: 0.436846, Progress: 25600/60000\n",
      "Loss: 0.438789, Progress: 32000/60000\n",
      "Loss: 0.371465, Progress: 38400/60000\n",
      "Loss: 0.524198, Progress: 44800/60000\n",
      "Loss: 0.491258, Progress: 51200/60000\n",
      "Loss: 0.496055, Progress: 57600/60000\n",
      "[Test] acc: 0.845500, avg_loss: 0.006703\n",
      "Epoch 2 -----\n",
      "Loss: 0.266615, Progress:     0/60000\n",
      "Loss: 0.337058, Progress:  6400/60000\n",
      "Loss: 0.279586, Progress: 12800/60000\n",
      "Loss: 0.380013, Progress: 19200/60000\n",
      "Loss: 0.435605, Progress: 25600/60000\n",
      "Loss: 0.391259, Progress: 32000/60000\n",
      "Loss: 0.305290, Progress: 38400/60000\n",
      "Loss: 0.474170, Progress: 44800/60000\n",
      "Loss: 0.419834, Progress: 51200/60000\n",
      "Loss: 0.423865, Progress: 57600/60000\n",
      "[Test] acc: 0.857600, avg_loss: 0.006131\n",
      "Epoch 3 -----\n",
      "Loss: 0.230002, Progress:     0/60000\n",
      "Loss: 0.313785, Progress:  6400/60000\n",
      "Loss: 0.229860, Progress: 12800/60000\n",
      "Loss: 0.331542, Progress: 19200/60000\n",
      "Loss: 0.384133, Progress: 25600/60000\n",
      "Loss: 0.357577, Progress: 32000/60000\n",
      "Loss: 0.269883, Progress: 38400/60000\n",
      "Loss: 0.455277, Progress: 44800/60000\n",
      "Loss: 0.311112, Progress: 51200/60000\n",
      "Loss: 0.376215, Progress: 57600/60000\n",
      "[Test] acc: 0.858800, avg_loss: 0.005995\n",
      "Epoch 4 -----\n",
      "Loss: 0.244171, Progress:     0/60000\n",
      "Loss: 0.283519, Progress:  6400/60000\n",
      "Loss: 0.207825, Progress: 12800/60000\n",
      "Loss: 0.263081, Progress: 19200/60000\n",
      "Loss: 0.379495, Progress: 25600/60000\n",
      "Loss: 0.328111, Progress: 32000/60000\n",
      "Loss: 0.248072, Progress: 38400/60000\n",
      "Loss: 0.404955, Progress: 44800/60000\n",
      "Loss: 0.286466, Progress: 51200/60000\n",
      "Loss: 0.343041, Progress: 57600/60000\n",
      "[Test] acc: 0.867800, avg_loss: 0.005741\n",
      "Epoch 5 -----\n",
      "Loss: 0.250481, Progress:     0/60000\n",
      "Loss: 0.263910, Progress:  6400/60000\n",
      "Loss: 0.216985, Progress: 12800/60000\n",
      "Loss: 0.232777, Progress: 19200/60000\n",
      "Loss: 0.362400, Progress: 25600/60000\n",
      "Loss: 0.324077, Progress: 32000/60000\n",
      "Loss: 0.222661, Progress: 38400/60000\n",
      "Loss: 0.382130, Progress: 44800/60000\n",
      "Loss: 0.240117, Progress: 51200/60000\n",
      "Loss: 0.307732, Progress: 57600/60000\n",
      "[Test] acc: 0.873300, avg_loss: 0.005569\n",
      "Done.\n"
     ]
    }
   ],
   "source": [
    "for epoch in range(epochs):\n",
    "    print(f\"Epoch {epoch+1} -----\")\n",
    "    train(train_dataloader, model, loss_fn, optimizer)\n",
    "    test(test_dataloader, model, loss_fn)\n",
    "print(\"Done.\")"
   ]
  },
  {
   "cell_type": "code",
   "execution_count": 6,
   "metadata": {},
   "outputs": [
    {
     "name": "stdout",
     "output_type": "stream",
     "text": [
      "Saved model: 0_quickstart.pth\n"
     ]
    }
   ],
   "source": [
    "pth = \"0_quickstart.pth\"\n",
    "torch.save(model.state_dict(), pth)\n",
    "print(f\"Saved model: {pth}\")"
   ]
  },
  {
   "cell_type": "code",
   "execution_count": 7,
   "metadata": {},
   "outputs": [
    {
     "name": "stdout",
     "output_type": "stream",
     "text": [
      "Predicted: Ankle boot, Actual: Ankle boot\n"
     ]
    }
   ],
   "source": [
    "model = NeuralNet()\n",
    "model.load_state_dict(torch.load(pth))\n",
    "\n",
    "classes = [\n",
    "    \"T-shirt/top\",\n",
    "    \"Trouser\",\n",
    "    \"Pullover\",\n",
    "    \"Dress\",\n",
    "    \"Coat\",\n",
    "    \"Sandal\",\n",
    "    \"Shirt\",\n",
    "    \"Sneaker\",\n",
    "    \"Bag\",\n",
    "    \"Ankle boot\",]\n",
    "\n",
    "model.eval()\n",
    "X, y = test_data[0]\n",
    "with torch.no_grad():\n",
    "    pred = model(X)\n",
    "    y_, y = classes[pred[0].argmax(0)], classes[y]\n",
    "    print(f\"Predicted: {y_}, Actual: {y}\")"
   ]
  }
 ],
 "metadata": {
  "kernelspec": {
   "display_name": "Python 3",
   "language": "python",
   "name": "python3"
  },
  "language_info": {
   "codemirror_mode": {
    "name": "ipython",
    "version": 3
   },
   "file_extension": ".py",
   "mimetype": "text/x-python",
   "name": "python",
   "nbconvert_exporter": "python",
   "pygments_lexer": "ipython3",
   "version": "3.8.10"
  },
  "orig_nbformat": 4,
  "vscode": {
   "interpreter": {
    "hash": "916dbcbb3f70747c44a77c7bcd40155683ae19c65e1c03b4aa3499c5328201f1"
   }
  }
 },
 "nbformat": 4,
 "nbformat_minor": 2
}
