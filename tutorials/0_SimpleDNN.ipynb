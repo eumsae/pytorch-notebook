{
 "cells": [
  {
   "cell_type": "code",
   "execution_count": 1,
   "metadata": {},
   "outputs": [
    {
     "name": "stderr",
     "output_type": "stream",
     "text": [
      "/usr/local/lib/python3.8/dist-packages/tqdm/auto.py:22: TqdmWarning: IProgress not found. Please update jupyter and ipywidgets. See https://ipywidgets.readthedocs.io/en/stable/user_install.html\n",
      "  from .autonotebook import tqdm as notebook_tqdm\n"
     ]
    }
   ],
   "source": [
    "import torch\n",
    "import torch.nn as nn\n",
    "from torch.utils.data import DataLoader\n",
    "from torchvision.datasets import MNIST  # or FashionMNIST\n",
    "from torchvision.transforms import ToTensor\n",
    "\n",
    "device = \"cuda\" if torch.cuda.is_available() else \"cpu\""
   ]
  },
  {
   "cell_type": "code",
   "execution_count": 2,
   "metadata": {},
   "outputs": [
    {
     "data": {
      "text/plain": [
       "(Dataset MNIST\n",
       "     Number of datapoints: 60000\n",
       "     Root location: data\n",
       "     Split: Train\n",
       "     StandardTransform\n",
       " Transform: ToTensor(),\n",
       " Dataset MNIST\n",
       "     Number of datapoints: 10000\n",
       "     Root location: data\n",
       "     Split: Test\n",
       "     StandardTransform\n",
       " Transform: ToTensor())"
      ]
     },
     "execution_count": 2,
     "metadata": {},
     "output_type": "execute_result"
    }
   ],
   "source": [
    "def load_data(train:bool):\n",
    "    data = MNIST(\n",
    "        root=\"data\",\n",
    "        train=train,\n",
    "        transform=ToTensor(),\n",
    "        download=True)\n",
    "    return data\n",
    "\n",
    "trainset = load_data(True)\n",
    "testset = load_data(False)\n",
    "\n",
    "trainset, testset"
   ]
  },
  {
   "cell_type": "code",
   "execution_count": 3,
   "metadata": {},
   "outputs": [
    {
     "data": {
      "image/png": "[encoded data removed]",
      "text/plain": [
       "<Figure size 500x100 with 5 Axes>"
      ]
     },
     "metadata": {},
     "output_type": "display_data"
    }
   ],
   "source": [
    "import matplotlib.pyplot as plt\n",
    "%matplotlib inline\n",
    "\n",
    "figure = plt.figure(figsize=(5, 1))\n",
    "\n",
    "n_samples = 5\n",
    "for i in range(n_samples):\n",
    "    img, lbl = trainset[i]  # img: tensor(1, 28, 28), lbl: int\n",
    "    img = img.squeeze()  # (1, 28, 28) -> (28, 28)\n",
    "    img = img.numpy()\n",
    "    plt.subplot(1, 5, i+1)\n",
    "    plt.axis(\"off\")\n",
    "    plt.title(f\"y: {lbl}\")\n",
    "    plt.imshow(img, cmap=\"gray\")\n",
    "plt.show()"
   ]
  },
  {
   "cell_type": "code",
   "execution_count": 4,
   "metadata": {},
   "outputs": [
    {
     "data": {
      "text/plain": [
       "DNN(\n",
       "  (flatten): Flatten(start_dim=1, end_dim=-1)\n",
       "  (fc_stack): Sequential(\n",
       "    (0): Linear(in_features=784, out_features=512, bias=True)\n",
       "    (1): ReLU()\n",
       "    (2): Linear(in_features=512, out_features=512, bias=True)\n",
       "    (3): ReLU()\n",
       "    (4): Linear(in_features=512, out_features=10, bias=True)\n",
       "  )\n",
       ")"
      ]
     },
     "execution_count": 4,
     "metadata": {},
     "output_type": "execute_result"
    }
   ],
   "source": [
    "class DNN(nn.Module):\n",
    "    def __init__(self):\n",
    "        super().__init__()\n",
    "        self.flatten = nn.Flatten()  # (1, 28, 28) -> (784,)\n",
    "        self.fc_stack = nn.Sequential(\n",
    "            nn.Linear(784, 512),\n",
    "            nn.ReLU(),\n",
    "            nn.Linear(512, 512),\n",
    "            nn.ReLU(),\n",
    "            nn.Linear(512, 10))\n",
    "    \n",
    "    def forward(self, x):\n",
    "        x = self.flatten(x)\n",
    "        logits = self.fc_stack(x)\n",
    "        return logits\n",
    "\n",
    "DNN()"
   ]
  },
  {
   "cell_type": "code",
   "execution_count": 5,
   "metadata": {},
   "outputs": [],
   "source": [
    "def train(model, dataloader, loss_fn, optimizer):\n",
    "    model.train()\n",
    "    n_samples = len(dataloader.dataset)\n",
    "    \n",
    "    for batch_i, (X, y) in enumerate(dataloader):\n",
    "        X, y = X.to(device), y.to(device)\n",
    "        y_ = model(X)  # predict\n",
    "\n",
    "        loss = loss_fn(y_, y)\n",
    "        optimizer.zero_grad()\n",
    "        loss.backward()\n",
    "        optimizer.step()\n",
    "\n",
    "        if batch_i % 100 == 0:\n",
    "            loss = loss.item()\n",
    "            prog = batch_i * len(X)\n",
    "            print(f\"Loss: {loss:>7f}, Progress: {prog:>5d}/{n_samples:>5d}\")"
   ]
  },
  {
   "cell_type": "code",
   "execution_count": 6,
   "metadata": {},
   "outputs": [],
   "source": [
    "def test(model, dataloader, loss_fn):\n",
    "    model.eval()\n",
    "    n_samples = len(dataloader.dataset)\n",
    "    \n",
    "    total_loss, correct = 0, 0\n",
    "    with torch.no_grad():\n",
    "        for X, y in dataloader:\n",
    "            X, y = X.to(device), y.to(device)\n",
    "            y_ = model(X)  # predict\n",
    "\n",
    "            total_loss += loss_fn(y_, y).item()\n",
    "            correct += (y_.argmax(1) == y).type(torch.float).sum().item()\n",
    "    \n",
    "    accuracy = correct / n_samples\n",
    "    avg_loss = total_loss / n_samples\n",
    "    print(f\"Accuracy: {accuracy:>7f}, Avg_Loss: {avg_loss:>7f}\")"
   ]
  },
  {
   "cell_type": "code",
   "execution_count": 7,
   "metadata": {},
   "outputs": [],
   "source": [
    "# model\n",
    "model = DNN().to(device)\n",
    "\n",
    "# hyper-parameters\n",
    "epochs = 10\n",
    "batch_size = 64\n",
    "lr = 0.001\n",
    "loss_fn = nn.CrossEntropyLoss()\n",
    "optimizer = torch.optim.Adam(params=model.parameters(), lr=lr)\n",
    "\n",
    "# data\n",
    "trainset_loader = DataLoader(trainset, batch_size)\n",
    "testset_loader = DataLoader(testset, batch_size)"
   ]
  },
  {
   "cell_type": "code",
   "execution_count": 8,
   "metadata": {},
   "outputs": [
    {
     "name": "stdout",
     "output_type": "stream",
     "text": [
      "Epoch: 1 -----\n",
      "Loss: 2.312645, Progress:     0/60000\n",
      "Loss: 0.251361, Progress:  6400/60000\n",
      "Loss: 0.198211, Progress: 12800/60000\n",
      "Loss: 0.235531, Progress: 19200/60000\n",
      "Loss: 0.133853, Progress: 25600/60000\n",
      "Loss: 0.320116, Progress: 32000/60000\n",
      "Loss: 0.153561, Progress: 38400/60000\n",
      "Loss: 0.233679, Progress: 44800/60000\n",
      "Loss: 0.376818, Progress: 51200/60000\n",
      "Loss: 0.149478, Progress: 57600/60000\n",
      "Accuracy: 0.956300, Avg_Loss: 0.002140\n",
      "Epoch: 2 -----\n",
      "Loss: 0.075030, Progress:     0/60000\n",
      "Loss: 0.081513, Progress:  6400/60000\n",
      "Loss: 0.133088, Progress: 12800/60000\n",
      "Loss: 0.085945, Progress: 19200/60000\n",
      "Loss: 0.046468, Progress: 25600/60000\n",
      "Loss: 0.097750, Progress: 32000/60000\n",
      "Loss: 0.050291, Progress: 38400/60000\n",
      "Loss: 0.130152, Progress: 44800/60000\n",
      "Loss: 0.142568, Progress: 51200/60000\n",
      "Loss: 0.123359, Progress: 57600/60000\n",
      "Accuracy: 0.967200, Avg_Loss: 0.001681\n",
      "Epoch: 3 -----\n",
      "Loss: 0.047153, Progress:     0/60000\n",
      "Loss: 0.058063, Progress:  6400/60000\n",
      "Loss: 0.050337, Progress: 12800/60000\n",
      "Loss: 0.050556, Progress: 19200/60000\n",
      "Loss: 0.033543, Progress: 25600/60000\n",
      "Loss: 0.092742, Progress: 32000/60000\n",
      "Loss: 0.016715, Progress: 38400/60000\n",
      "Loss: 0.093613, Progress: 44800/60000\n",
      "Loss: 0.152001, Progress: 51200/60000\n",
      "Loss: 0.062378, Progress: 57600/60000\n",
      "Accuracy: 0.972900, Avg_Loss: 0.001520\n",
      "Epoch: 4 -----\n",
      "Loss: 0.041547, Progress:     0/60000\n",
      "Loss: 0.021534, Progress:  6400/60000\n",
      "Loss: 0.022067, Progress: 12800/60000\n",
      "Loss: 0.032274, Progress: 19200/60000\n",
      "Loss: 0.055626, Progress: 25600/60000\n",
      "Loss: 0.008832, Progress: 32000/60000\n",
      "Loss: 0.020181, Progress: 38400/60000\n",
      "Loss: 0.020057, Progress: 44800/60000\n",
      "Loss: 0.083064, Progress: 51200/60000\n",
      "Loss: 0.054755, Progress: 57600/60000\n",
      "Accuracy: 0.971100, Avg_Loss: 0.001726\n",
      "Epoch: 5 -----\n",
      "Loss: 0.034049, Progress:     0/60000\n",
      "Loss: 0.025649, Progress:  6400/60000\n",
      "Loss: 0.033563, Progress: 12800/60000\n",
      "Loss: 0.088307, Progress: 19200/60000\n",
      "Loss: 0.018783, Progress: 25600/60000\n",
      "Loss: 0.011116, Progress: 32000/60000\n",
      "Loss: 0.006694, Progress: 38400/60000\n",
      "Loss: 0.034901, Progress: 44800/60000\n",
      "Loss: 0.042676, Progress: 51200/60000\n",
      "Loss: 0.039761, Progress: 57600/60000\n",
      "Accuracy: 0.966100, Avg_Loss: 0.001945\n",
      "Epoch: 6 -----\n",
      "Loss: 0.033687, Progress:     0/60000\n",
      "Loss: 0.031304, Progress:  6400/60000\n",
      "Loss: 0.109412, Progress: 12800/60000\n",
      "Loss: 0.031811, Progress: 19200/60000\n",
      "Loss: 0.015708, Progress: 25600/60000\n",
      "Loss: 0.012314, Progress: 32000/60000\n",
      "Loss: 0.009684, Progress: 38400/60000\n",
      "Loss: 0.029357, Progress: 44800/60000\n",
      "Loss: 0.171032, Progress: 51200/60000\n",
      "Loss: 0.015416, Progress: 57600/60000\n",
      "Accuracy: 0.978600, Avg_Loss: 0.001261\n",
      "Epoch: 7 -----\n",
      "Loss: 0.015303, Progress:     0/60000\n",
      "Loss: 0.000672, Progress:  6400/60000\n",
      "Loss: 0.047682, Progress: 12800/60000\n",
      "Loss: 0.001370, Progress: 19200/60000\n",
      "Loss: 0.061706, Progress: 25600/60000\n",
      "Loss: 0.018902, Progress: 32000/60000\n",
      "Loss: 0.033799, Progress: 38400/60000\n",
      "Loss: 0.005782, Progress: 44800/60000\n",
      "Loss: 0.110083, Progress: 51200/60000\n",
      "Loss: 0.011029, Progress: 57600/60000\n",
      "Accuracy: 0.977600, Avg_Loss: 0.001493\n",
      "Epoch: 8 -----\n",
      "Loss: 0.007223, Progress:     0/60000\n",
      "Loss: 0.019533, Progress:  6400/60000\n",
      "Loss: 0.030699, Progress: 12800/60000\n",
      "Loss: 0.023837, Progress: 19200/60000\n",
      "Loss: 0.048472, Progress: 25600/60000\n",
      "Loss: 0.002216, Progress: 32000/60000\n",
      "Loss: 0.000850, Progress: 38400/60000\n",
      "Loss: 0.005265, Progress: 44800/60000\n",
      "Loss: 0.059893, Progress: 51200/60000\n",
      "Loss: 0.004919, Progress: 57600/60000\n",
      "Accuracy: 0.977700, Avg_Loss: 0.001530\n",
      "Epoch: 9 -----\n",
      "Loss: 0.004771, Progress:     0/60000\n",
      "Loss: 0.005781, Progress:  6400/60000\n",
      "Loss: 0.006674, Progress: 12800/60000\n",
      "Loss: 0.004248, Progress: 19200/60000\n",
      "Loss: 0.001685, Progress: 25600/60000\n",
      "Loss: 0.002608, Progress: 32000/60000\n",
      "Loss: 0.001100, Progress: 38400/60000\n",
      "Loss: 0.012917, Progress: 44800/60000\n",
      "Loss: 0.006939, Progress: 51200/60000\n",
      "Loss: 0.057318, Progress: 57600/60000\n",
      "Accuracy: 0.978400, Avg_Loss: 0.001548\n",
      "Epoch: 10 -----\n",
      "Loss: 0.001878, Progress:     0/60000\n",
      "Loss: 0.001792, Progress:  6400/60000\n",
      "Loss: 0.035038, Progress: 12800/60000\n",
      "Loss: 0.007054, Progress: 19200/60000\n",
      "Loss: 0.001012, Progress: 25600/60000\n",
      "Loss: 0.076253, Progress: 32000/60000\n",
      "Loss: 0.003514, Progress: 38400/60000\n",
      "Loss: 0.005234, Progress: 44800/60000\n",
      "Loss: 0.004406, Progress: 51200/60000\n",
      "Loss: 0.008912, Progress: 57600/60000\n",
      "Accuracy: 0.981600, Avg_Loss: 0.001473\n",
      "done.\n"
     ]
    }
   ],
   "source": [
    "# train & test\n",
    "for epoch_i in range(epochs):\n",
    "    print(f\"Epoch: {epoch_i + 1} -----\")\n",
    "    train(model, trainset_loader, loss_fn, optimizer)\n",
    "    test(model, testset_loader, loss_fn)\n",
    "print(\"done.\")"
   ]
  },
  {
   "cell_type": "code",
   "execution_count": 9,
   "metadata": {},
   "outputs": [
    {
     "name": "stdout",
     "output_type": "stream",
     "text": [
      "Saved model: dnn.pth\n"
     ]
    }
   ],
   "source": [
    "# saving model\n",
    "pth = \"dnn.pth\"\n",
    "torch.save(model.state_dict(), pth)\n",
    "print(f\"Saved model: {pth}\")"
   ]
  },
  {
   "cell_type": "code",
   "execution_count": 10,
   "metadata": {},
   "outputs": [
    {
     "name": "stdout",
     "output_type": "stream",
     "text": [
      "Predicted: Sneaker, Actual: Sneaker\n"
     ]
    }
   ],
   "source": [
    "# loading model\n",
    "model = DNN()\n",
    "model.load_state_dict(torch.load(pth))\n",
    "model.eval()\n",
    "\n",
    "classes = [\n",
    "    \"T-shirt/top\",\n",
    "    \"Trouser\",\n",
    "    \"Pullover\",\n",
    "    \"Dress\",\n",
    "    \"Coat\",\n",
    "    \"Sandal\",\n",
    "    \"Shirt\",\n",
    "    \"Sneaker\",\n",
    "    \"Bag\",\n",
    "    \"Ankle boot\",]\n",
    "\n",
    "X, y = testset[0]\n",
    "with torch.no_grad():\n",
    "    pred = model(X)\n",
    "    y_, y = classes[pred[0].argmax(0)], classes[y]\n",
    "    print(f\"Predicted: {y_}, Actual: {y}\")"
   ]
  }
 ],
 "metadata": {
  "kernelspec": {
   "display_name": "Python 3",
   "language": "python",
   "name": "python3"
  },
  "language_info": {
   "codemirror_mode": {
    "name": "ipython",
    "version": 3
   },
   "file_extension": ".py",
   "mimetype": "text/x-python",
   "name": "python",
   "nbconvert_exporter": "python",
   "pygments_lexer": "ipython3",
   "version": "3.8.10 (default, Nov 14 2022, 12:59:47) \n[GCC 9.4.0]"
  },
  "orig_nbformat": 4,
  "vscode": {
   "interpreter": {
    "hash": "916dbcbb3f70747c44a77c7bcd40155683ae19c65e1c03b4aa3499c5328201f1"
   }
  }
 },
 "nbformat": 4,
 "nbformat_minor": 2
}
